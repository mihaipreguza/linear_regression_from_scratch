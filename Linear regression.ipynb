{
 "cells": [
  {
   "cell_type": "markdown",
   "id": "5fa39250-fd77-4f85-8066-a4eb1a70f543",
   "metadata": {},
   "source": [
    "# <b>Linear regression from scrath in Python</b>"
   ]
  },
  {
   "cell_type": "markdown",
   "id": "4a730169-32cd-4a32-adba-338581be5605",
   "metadata": {},
   "source": [
    "This notebook focuses on implementing <b>Linear Regression (LR)</b> from scratch.\n",
    "Although there are many frameworks that allow implementing linear regression algorithm in a few lines of code, implementing the algorithm from scratch helps one to better understand its inner workings."
   ]
  },
  {
   "cell_type": "markdown",
   "id": "d48d7eeb-d890-4426-9b44-c1ff1bc822a9",
   "metadata": {},
   "source": [
    "# <b>Dataset</b>"
   ]
  },
  {
   "cell_type": "markdown",
   "id": "842e08bb-1d4a-4e57-84bc-c40969759a22",
   "metadata": {},
   "source": [
    "The task of our algorithm is to predict the sale price of a house. This is a standard supervised regression task:\n",
    "- <b>Supervised</b> - The training data is `labeled` i.e. the algorithm knows the selling price of the houses included in the training data;\n",
    "- <b>Regression</b> - algorithm will predict a continuous value (i.e. sale price)."
   ]
  },
  {
   "cell_type": "markdown",
   "id": "36887183-a361-4bc5-ab3d-dd561a7602e9",
   "metadata": {},
   "source": [
    "<br>The training dataset consists of:\n",
    "- Input variables, also called <b>features</b>:\n",
    ">- GrLivArea - size of living area in square feet;\n",
    ">- TotalBsmtSF - size of basement area in square feet;\n",
    ">- GarageCars - size of garage in car capacity;\n",
    "- Labels: Sale price."
   ]
  },
  {
   "cell_type": "markdown",
   "id": "836a07b0-8049-4108-9863-ba0c59eb644d",
   "metadata": {},
   "source": [
    "For training the algorithm we will be using a simplified version of *Ames Housing dataset* </b> found <a href=\"https://www.kaggle.com/c/house-prices-advanced-regression-techniques\">here</a>."
   ]
  },
  {
   "cell_type": "markdown",
   "id": "aabdb321-1c49-4de1-8af3-a7a26c29df71",
   "metadata": {},
   "source": [
    "<b><u>Import dataset</u></b>:"
   ]
  },
  {
   "cell_type": "code",
   "execution_count": 1,
   "id": "78703ca1-8c78-447f-bdd8-e9c393de0770",
   "metadata": {},
   "outputs": [],
   "source": [
    "# IMPORTS\n",
    "\n",
    "# Pandas is a wide used library for data manipulations.\n",
    "import pandas as pd    \n",
    "\n",
    "# Used for spliting the dataset\n",
    "from sklearn.model_selection import train_test_split \n",
    "\n",
    "# Used for scaling inputs\n",
    "from sklearn.preprocessing import MinMaxScaler\n",
    "\n",
    "# Great library for linear algebra operations\n",
    "import numpy as np             \n",
    "\n",
    "# Suppres scientific notation in numpy\n",
    "np.set_printoptions(suppress=True)     \n",
    "\n",
    "# Library used for data visualization\n",
    "import matplotlib.pyplot as plt"
   ]
  },
  {
   "cell_type": "code",
   "execution_count": 2,
   "id": "9faa892b-ede3-4638-ab23-b4fe3a7dafe5",
   "metadata": {},
   "outputs": [],
   "source": [
    "dataset = pd.read_csv(\"./Data/house_price.csv\")"
   ]
  },
  {
   "cell_type": "code",
   "execution_count": 3,
   "id": "0a388d3d-f2b5-49ba-a13a-c4b6c7971589",
   "metadata": {},
   "outputs": [
    {
     "data": {
      "text/html": [
       "<div>\n",
       "<style scoped>\n",
       "    .dataframe tbody tr th:only-of-type {\n",
       "        vertical-align: middle;\n",
       "    }\n",
       "\n",
       "    .dataframe tbody tr th {\n",
       "        vertical-align: top;\n",
       "    }\n",
       "\n",
       "    .dataframe thead th {\n",
       "        text-align: right;\n",
       "    }\n",
       "</style>\n",
       "<table border=\"1\" class=\"dataframe\">\n",
       "  <thead>\n",
       "    <tr style=\"text-align: right;\">\n",
       "      <th></th>\n",
       "      <th>GrLivArea</th>\n",
       "      <th>TotalBsmtSF</th>\n",
       "      <th>GarageCars</th>\n",
       "      <th>SalePrice</th>\n",
       "    </tr>\n",
       "  </thead>\n",
       "  <tbody>\n",
       "    <tr>\n",
       "      <th>0</th>\n",
       "      <td>1710.0</td>\n",
       "      <td>856.0</td>\n",
       "      <td>2.0</td>\n",
       "      <td>208500</td>\n",
       "    </tr>\n",
       "    <tr>\n",
       "      <th>1</th>\n",
       "      <td>1262.0</td>\n",
       "      <td>1262.0</td>\n",
       "      <td>2.0</td>\n",
       "      <td>181500</td>\n",
       "    </tr>\n",
       "    <tr>\n",
       "      <th>2</th>\n",
       "      <td>1786.0</td>\n",
       "      <td>920.0</td>\n",
       "      <td>2.0</td>\n",
       "      <td>223500</td>\n",
       "    </tr>\n",
       "    <tr>\n",
       "      <th>3</th>\n",
       "      <td>1717.0</td>\n",
       "      <td>756.0</td>\n",
       "      <td>3.0</td>\n",
       "      <td>140000</td>\n",
       "    </tr>\n",
       "    <tr>\n",
       "      <th>4</th>\n",
       "      <td>2198.0</td>\n",
       "      <td>1145.0</td>\n",
       "      <td>3.0</td>\n",
       "      <td>250000</td>\n",
       "    </tr>\n",
       "  </tbody>\n",
       "</table>\n",
       "</div>"
      ],
      "text/plain": [
       "   GrLivArea  TotalBsmtSF  GarageCars  SalePrice\n",
       "0     1710.0        856.0         2.0     208500\n",
       "1     1262.0       1262.0         2.0     181500\n",
       "2     1786.0        920.0         2.0     223500\n",
       "3     1717.0        756.0         3.0     140000\n",
       "4     2198.0       1145.0         3.0     250000"
      ]
     },
     "execution_count": 3,
     "metadata": {},
     "output_type": "execute_result"
    }
   ],
   "source": [
    "dataset.head(5)       # View first 5 rows of the dataset "
   ]
  },
  {
   "cell_type": "markdown",
   "id": "4cb6fbcd-a2fc-444a-abba-fdf6676e6104",
   "metadata": {},
   "source": [
    "We split the data in features and labels"
   ]
  },
  {
   "cell_type": "code",
   "execution_count": 4,
   "id": "1cece5aa-a93e-4483-92f3-d7cdeaf27307",
   "metadata": {},
   "outputs": [
    {
     "data": {
      "text/html": [
       "<div>\n",
       "<style scoped>\n",
       "    .dataframe tbody tr th:only-of-type {\n",
       "        vertical-align: middle;\n",
       "    }\n",
       "\n",
       "    .dataframe tbody tr th {\n",
       "        vertical-align: top;\n",
       "    }\n",
       "\n",
       "    .dataframe thead th {\n",
       "        text-align: right;\n",
       "    }\n",
       "</style>\n",
       "<table border=\"1\" class=\"dataframe\">\n",
       "  <thead>\n",
       "    <tr style=\"text-align: right;\">\n",
       "      <th></th>\n",
       "      <th>GrLivArea</th>\n",
       "      <th>TotalBsmtSF</th>\n",
       "      <th>GarageCars</th>\n",
       "    </tr>\n",
       "  </thead>\n",
       "  <tbody>\n",
       "    <tr>\n",
       "      <th>0</th>\n",
       "      <td>1710.0</td>\n",
       "      <td>856.0</td>\n",
       "      <td>2.0</td>\n",
       "    </tr>\n",
       "    <tr>\n",
       "      <th>1</th>\n",
       "      <td>1262.0</td>\n",
       "      <td>1262.0</td>\n",
       "      <td>2.0</td>\n",
       "    </tr>\n",
       "    <tr>\n",
       "      <th>2</th>\n",
       "      <td>1786.0</td>\n",
       "      <td>920.0</td>\n",
       "      <td>2.0</td>\n",
       "    </tr>\n",
       "    <tr>\n",
       "      <th>3</th>\n",
       "      <td>1717.0</td>\n",
       "      <td>756.0</td>\n",
       "      <td>3.0</td>\n",
       "    </tr>\n",
       "    <tr>\n",
       "      <th>4</th>\n",
       "      <td>2198.0</td>\n",
       "      <td>1145.0</td>\n",
       "      <td>3.0</td>\n",
       "    </tr>\n",
       "  </tbody>\n",
       "</table>\n",
       "</div>"
      ],
      "text/plain": [
       "   GrLivArea  TotalBsmtSF  GarageCars\n",
       "0     1710.0        856.0         2.0\n",
       "1     1262.0       1262.0         2.0\n",
       "2     1786.0        920.0         2.0\n",
       "3     1717.0        756.0         3.0\n",
       "4     2198.0       1145.0         3.0"
      ]
     },
     "execution_count": 4,
     "metadata": {},
     "output_type": "execute_result"
    }
   ],
   "source": [
    "X = dataset.drop(\"SalePrice\", axis=1)\n",
    "X.head()"
   ]
  },
  {
   "cell_type": "code",
   "execution_count": 5,
   "id": "6bb9c97a-bc48-4311-a550-5604d468b64f",
   "metadata": {},
   "outputs": [
    {
     "data": {
      "text/plain": [
       "0    208500\n",
       "1    181500\n",
       "2    223500\n",
       "3    140000\n",
       "4    250000\n",
       "Name: SalePrice, dtype: int64"
      ]
     },
     "execution_count": 5,
     "metadata": {},
     "output_type": "execute_result"
    }
   ],
   "source": [
    "Y = dataset.SalePrice\n",
    "Y.head()"
   ]
  },
  {
   "cell_type": "markdown",
   "id": "0a2126d2-8b91-4035-ae50-97b57deffbf6",
   "metadata": {},
   "source": [
    "<b><u>Input scaling</u></b>:"
   ]
  },
  {
   "cell_type": "code",
   "execution_count": 6,
   "id": "3ae16190-6025-448b-982b-4eb79f8a6c85",
   "metadata": {},
   "outputs": [],
   "source": [
    "feature_scaler = MinMaxScaler()\n",
    "feature_scaler.fit(X)\n",
    "X = feature_scaler.transform(X)"
   ]
  },
  {
   "cell_type": "code",
   "execution_count": 7,
   "id": "43a2a47f-8c7d-43ab-9569-a75ba60d4c4a",
   "metadata": {},
   "outputs": [],
   "source": [
    "label_scaler = MinMaxScaler()\n",
    "label_scaler.fit(Y.to_numpy().reshape(-1,1))\n",
    "Y = label_scaler.transform(Y.to_numpy().reshape(-1,1))"
   ]
  },
  {
   "cell_type": "markdown",
   "id": "f469feee-80cf-41a3-9808-a8b8665c32df",
   "metadata": {},
   "source": [
    "<b><u>Train/test split</u></b>:"
   ]
  },
  {
   "cell_type": "markdown",
   "id": "bd498dda-9895-46fd-a7b0-a3ad5bcadd83",
   "metadata": {},
   "source": [
    "We split data in training data and test data. \n",
    "\n",
    "We need test data because we want to check how the algorithm performs on previously unseen data."
   ]
  },
  {
   "cell_type": "code",
   "execution_count": 8,
   "id": "2ff6b116-ce30-473d-a46d-613f23640ac0",
   "metadata": {},
   "outputs": [],
   "source": [
    "x_train, x_test, y_train, y_test = train_test_split(X, Y, test_size=0.2, random_state=10)"
   ]
  },
  {
   "cell_type": "code",
   "execution_count": 9,
   "id": "cbf5db40-5e91-4175-a7de-8b55323696be",
   "metadata": {},
   "outputs": [
    {
     "data": {
      "text/plain": [
       "((800, 3), (200, 3), (800, 1), (200, 1))"
      ]
     },
     "execution_count": 9,
     "metadata": {},
     "output_type": "execute_result"
    }
   ],
   "source": [
    "x_train.shape, x_test.shape, y_train.shape, y_test.shape"
   ]
  },
  {
   "cell_type": "markdown",
   "id": "c2143f02-4716-4bc1-8790-56c59dfe1467",
   "metadata": {},
   "source": [
    "Now we have the dataset splited:\n",
    "- 800 train examples;\n",
    "- 200 test examples."
   ]
  },
  {
   "cell_type": "markdown",
   "id": "b72a870b-a811-400d-be6c-d50a43f653c5",
   "metadata": {},
   "source": [
    "# <b>Theory</b>"
   ]
  },
  {
   "cell_type": "markdown",
   "id": "c91d5297-19af-4dcb-9bd4-11ef640a6959",
   "metadata": {},
   "source": [
    "First, we have to decide how we are going to represent the hypothesis function used to predict Y (i.e. house price)."
   ]
  },
  {
   "cell_type": "markdown",
   "id": "830974b5-4b63-4009-b4bd-a32830cbbe06",
   "metadata": {},
   "source": [
    "For the purpose of this notebook we will use the following function:"
   ]
  },
  {
   "cell_type": "markdown",
   "id": "8bff1e26-3cfb-4df0-987d-20e2af3ed30f",
   "metadata": {},
   "source": [
    "$ h(x) = \\theta_{0} + \\theta_{1}x_{1} + \\theta_{2}x_{2} + \\theta_{3}x_{3} $;\n",
    "<br>\n",
    "where $x_{i}$ represent the features:\n",
    "- $x_{1}$ - GrLivArea\n",
    "- $x_{2}$ - TotalBsmtSF\n",
    "- $x_{3}$ - GarageCars\n",
    "\n",
    "and $\\theta_{i}$`s represent the <b>parameters</b> (also called <b>weights</b>) parameterizing the\n",
    "space of linear functions mapping from $X$ to $Y$."
   ]
  },
  {
   "cell_type": "markdown",
   "id": "34cdec4b-3152-4735-98cc-63f97bb58121",
   "metadata": {},
   "source": [
    "To simplify the  notation, we introduce the convention of letting $x_0$ = 1:"
   ]
  },
  {
   "cell_type": "markdown",
   "id": "456853b1-8d9d-48be-9018-28879b4b2fe0",
   "metadata": {},
   "source": [
    "$ h(x) = \\sum\\limits _{j=1} ^{p}{\\theta_{i}x_{i}} = \\theta^{T}x$"
   ]
  },
  {
   "cell_type": "code",
   "execution_count": null,
   "id": "c9dab6b1-1ffc-42d8-924f-eecc80846c2a",
   "metadata": {},
   "outputs": [
    {
     "data": {
      "text/plain": [
       "((800, 4), (200, 4))"
      ]
     },
     "execution_count": 10,
     "metadata": {},
     "output_type": "execute_result"
    }
   ],
   "source": [
    "# Add a column x_0 = 1\n",
    "x_train = np.append(np.ones((800,1)), x_train, axis=1)\n",
    "x_test = np.append(np.ones((200,1)), x_test, axis=1)\n",
    "x_train.shape, x_test.shape"
   ]
  },
  {
   "cell_type": "markdown",
   "id": "cb468643-e9e1-4090-8f14-e636714ba287",
   "metadata": {},
   "source": [
    "For the purpose of learning, we need to pick parameters $\\theta$ so that $h(x)$ gets as closer as possible to $Y$. So we declare a <b>cost function</b> that will measure, for given value of $\\theta$ how close $h(x)$ is to $Y$."
   ]
  },
  {
   "cell_type": "markdown",
   "id": "dfc67561-5cd0-422b-8e41-dcb1cc0b75ad",
   "metadata": {},
   "source": [
    "$J(\\theta) = \\frac{1}{2} \\sum \\limits _{i=1} ^{m}(h_{\\theta}(x^{(i)})-y^{(i)})^{2}  \n",
    "$"
   ]
  },
  {
   "cell_type": "markdown",
   "id": "06a9382e-4049-4454-a461-0d971402f503",
   "metadata": {},
   "source": [
    "$m$ - denotes total number of training examples"
   ]
  },
  {
   "cell_type": "markdown",
   "id": "dcddfcc7-0dd3-467f-878e-0314d09ee2b7",
   "metadata": {},
   "source": [
    "Our task now is to find the values of $\\theta$ so that $J(\\theta)$ will have a minimal value."
   ]
  },
  {
   "cell_type": "markdown",
   "id": "cbc3a0f7-23dd-4c66-8fa7-df3181789ce9",
   "metadata": {},
   "source": [
    "To do so, we will start with some random initial values for $\\theta$ and then will make some small changes to $\\theta$ until $J(\\theta)$ will have a minimal value.\n",
    "For this purpose, we will use <b>stochastic (i.e. incremental) gradient descent</b> algorithm, which repeatedly performs the updates to $\\theta$ after computing derivatives for each training example:\n"
   ]
  },
  {
   "cell_type": "markdown",
   "id": "21186367-250b-4a1f-a8d0-9557ed19c341",
   "metadata": {},
   "source": [
    "$\\theta_{j} := \\theta_{j} - \\alpha \\frac {\\partial}{\\partial \\theta_{j}}J(\\theta)$\n",
    "\n",
    "$\\Leftrightarrow$\n",
    "\n",
    "$\\theta_{j}:=\\theta_{j} + \\alpha(y^{(i)} - h(x^{(i)}))x_{j}^{(i)}$ (for every $j$)"
   ]
  },
  {
   "cell_type": "markdown",
   "id": "e11e755a-6918-488a-b389-2c91411f06fe",
   "metadata": {},
   "source": [
    "$\\alpha$ is called <b>learning rate</b> and allows us to configure how significant are the changes applied to $\\theta$."
   ]
  },
  {
   "cell_type": "markdown",
   "id": "e4e95b3f-d7ef-436c-bf1f-33971d5d180f",
   "metadata": {},
   "source": [
    "There is also <b>batch gradient descent</b>, which computes partial derivatives using all training examples before applying changes to $\\theta$. Its formula is:"
   ]
  },
  {
   "cell_type": "markdown",
   "id": "9ad508fe-95e5-4754-a220-bbdca672e0d6",
   "metadata": {},
   "source": [
    "$\\theta_{j}:=\\theta_{j} + \\alpha \\sum \\limits _{i=1} ^{m} (y^{(i)} - h(x^{(i)}))x_{j}^{(i)}$"
   ]
  },
  {
   "cell_type": "markdown",
   "id": "2571d173-688e-408b-b456-6f931bdce406",
   "metadata": {},
   "source": [
    "# <b>Code for Stochastic Gradient Descent</b>"
   ]
  },
  {
   "cell_type": "code",
   "execution_count": 120,
   "id": "5f1707f1-bcd1-4208-95a4-3ce7c3aa810e",
   "metadata": {
    "tags": []
   },
   "outputs": [
    {
     "data": {
      "text/plain": [
       "[<matplotlib.lines.Line2D at 0x7fb9d1fd6310>]"
      ]
     },
     "execution_count": 120,
     "metadata": {},
     "output_type": "execute_result"
    },
    {
     "data": {
      "image/png": "[encoded data removed]",
      "text/plain": [
       "<Figure size 432x288 with 1 Axes>"
      ]
     },
     "metadata": {
      "needs_background": "light"
     },
     "output_type": "display_data"
    }
   ],
   "source": [
    "# Initalize theta with zeros\n",
    "theta_stochastic_gd = np.zeros(4)\n",
    "\n",
    "# Hyperparameters\n",
    "alpha = 0.01             # Learning rate\n",
    "epochs = 30              # Number of epochs\n",
    "\n",
    "# Variables used for visualizing cost\n",
    "all_costs = []\n",
    " \n",
    "for _ in range(epochs):\n",
    "    \n",
    "    for i in range(len(x_train)):\n",
    "        x = x_train[i]\n",
    "        y = y_train[i]\n",
    "        h_x = x@theta_stochastic_gd\n",
    "        theta_stochastic_gd = theta_stochastic_gd + alpha * (y - h_x)*x        \n",
    "        \n",
    "    y_pred = x_train@theta_stochastic_gd.reshape(-1,1)   \n",
    "    all_costs.append(sum((y_pred - y_train) * (y_pred - y_train)))\n",
    "    \n",
    "plt.plot(all_costs)"
   ]
  },
  {
   "cell_type": "markdown",
   "id": "80f47402-0d59-4fc8-96c4-8d5c2b0b28a8",
   "metadata": {},
   "source": [
    "# <b>Code for Batch Gradient Descent</b>"
   ]
  },
  {
   "cell_type": "code",
   "execution_count": 121,
   "id": "3d2a4311-54b1-40f5-a629-e602482d855c",
   "metadata": {},
   "outputs": [
    {
     "data": {
      "text/plain": [
       "[<matplotlib.lines.Line2D at 0x7fb9d2149640>]"
      ]
     },
     "execution_count": 121,
     "metadata": {},
     "output_type": "execute_result"
    },
    {
     "data": {
      "image/png": "[encoded data removed]",
      "text/plain": [
       "<Figure size 432x288 with 1 Axes>"
      ]
     },
     "metadata": {
      "needs_background": "light"
     },
     "output_type": "display_data"
    }
   ],
   "source": [
    "# Initalize theta with zeros\n",
    "theta_batch_gd = np.zeros(4)\n",
    "\n",
    "\n",
    "# Hyperparameters\n",
    "alpha = 0.001            # Learning rate\n",
    "epochs = 5              # Number of epochs\n",
    "\n",
    "# Variables used for visualizing\n",
    "all_costs = []\n",
    "cost_sum = 0\n",
    "\n",
    "for _ in range(epochs):\n",
    "    \n",
    "    h_x = (x@theta_batch_gd).reshape(-1,1)\n",
    "    \n",
    "    theta_batch_gd = theta_batch_gd + alpha * sum((((y_train-h_x))*x_train))\n",
    "\n",
    "    # Lines of code used for visualizing cost\n",
    "    all_costs.append(sum((h_x - y_train)*(h_x - y_train)))\n",
    "    \n",
    "plt.plot(all_costs)"
   ]
  },
  {
   "cell_type": "markdown",
   "id": "b9d553c3-2e89-4337-8b25-6fa3014e7bbf",
   "metadata": {},
   "source": [
    "# <b>Code for normal equation</b>"
   ]
  },
  {
   "cell_type": "markdown",
   "id": "079d5379-40de-4022-9ee5-058345b9e138",
   "metadata": {},
   "source": [
    "For linear regression, we can minimize $J(\\theta)$ by computing derivateves iteratively, as we have done above, or we can minimize it by taking $ \\frac {\\partial} {\\partial \\theta}  J(\\theta) = 0$."
   ]
  },
  {
   "cell_type": "markdown",
   "id": "53f70bb0-23a4-4c6e-9938-3af02f06e35f",
   "metadata": {},
   "source": [
    "The formula for computing this using linear algebra is: <br>\n",
    "$ \\nabla_{\\theta} J(\\theta) = X^{T}X\\theta - X^{T}Y $"
   ]
  },
  {
   "cell_type": "code",
   "execution_count": 122,
   "id": "4bc6e5a3-fe6f-4dc5-99a4-168ce6df9178",
   "metadata": {},
   "outputs": [],
   "source": [
    "theta_normal_eq = np.linalg.inv(x_train.T @ x_train) @ x_train.T @ y_train"
   ]
  },
  {
   "cell_type": "markdown",
   "id": "4f886b91-231c-4cbe-b6da-45a2f47bbc1e",
   "metadata": {},
   "source": [
    "# <b>Comparing parameters $\\theta$ calculated with different methods</b>"
   ]
  },
  {
   "cell_type": "code",
   "execution_count": 123,
   "id": "9f71ff4b-8e7d-4dc3-a4b4-1e8286ee14a1",
   "metadata": {},
   "outputs": [
    {
     "name": "stdout",
     "output_type": "stream",
     "text": [
      "Theta computed with sochastic gradient descent \n",
      " [-0.06972346  0.41163631  0.24384649  0.19178448]\n",
      "\n",
      "Theta computed with batch gradient descent \n",
      " [0.11238267 0.06990852 0.07306135 0.10342615]\n",
      "\n",
      "Theta computed with normal equation \n",
      " [[-0.07351101  0.44157478  0.24215959  0.17759184]]\n"
     ]
    }
   ],
   "source": [
    "print(\"Theta computed with sochastic gradient descent \\n\", theta_stochastic_gd) \n",
    "print(\"\\nTheta computed with batch gradient descent \\n\", theta_batch_gd) \n",
    "print(\"\\nTheta computed with normal equation \\n\", theta_normal_eq.reshape(1,-1)) "
   ]
  },
  {
   "cell_type": "markdown",
   "id": "c9aa8194-2685-46d9-852f-a9afd0699b7b",
   "metadata": {},
   "source": [
    "As we can see, for this dataset,  the parameters calculated using Stochasting Gradient Descent turned out to be the closes ones to those calculated using Normal Equation."
   ]
  },
  {
   "cell_type": "markdown",
   "id": "8317ddad-8e5f-461a-9b84-e309724165aa",
   "metadata": {},
   "source": [
    "Thats all for this notebook. For an indepth introduction to <b>Machine Learning</b> and specifically <b>LR</b>  please see Andrew NG\\`s`lecture (<a href=\"https://www.youtube.com/watch?v=4b4MUYve_U8\">video</a>) and its notes (<a href=\"https://cs229.stanford.edu/notes2021fall/cs229-notes1.pdf\">.pdf</a>)."
   ]
  }
 ],
 "metadata": {
  "kernelspec": {
   "display_name": "Python 3 (ipykernel)",
   "language": "python",
   "name": "python3"
  },
  "language_info": {
   "codemirror_mode": {
    "name": "ipython",
    "version": 3
   },
   "file_extension": ".py",
   "mimetype": "text/x-python",
   "name": "python",
   "nbconvert_exporter": "python",
   "pygments_lexer": "ipython3",
   "version": "3.9.7"
  },
  "toc-autonumbering": false
 },
 "nbformat": 4,
 "nbformat_minor": 5
}
